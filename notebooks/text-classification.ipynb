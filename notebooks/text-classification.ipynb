{
 "cells": [
  {
   "cell_type": "markdown",
   "metadata": {},
   "source": [
    "# Classifying Disaster Response Messages\n",
    "\n",
    "Get the dataset [here](https://www.figure-eight.com/dataset/combined-disaster-response-data/)."
   ]
  },
  {
   "cell_type": "code",
   "execution_count": 2,
   "metadata": {},
   "outputs": [],
   "source": [
    "%load_ext autoreload\n",
    "%autoreload 2\n",
    "\n",
    "# append python sources to path\n",
    "import sys\n",
    "sys.path.append('../src/')"
   ]
  },
  {
   "cell_type": "code",
   "execution_count": 3,
   "metadata": {},
   "outputs": [],
   "source": [
    "# imports\n",
    "import itertools\n",
    "from pathlib import Path\n",
    "\n",
    "# data wrangling\n",
    "import numpy as np\n",
    "import pandas as pd\n",
    "\n",
    "# plotting\n",
    "import matplotlib.pyplot as plt\n",
    "\n",
    "# modelling and evaluation\n",
    "from scipy.stats import randint, uniform\n",
    "from sklearn.feature_extraction.text import CountVectorizer\n",
    "from sklearn.model_selection import RandomizedSearchCV, GridSearchCV\n",
    "from sklearn.naive_bayes import GaussianNB\n",
    "from sklearn.svm import LinearSVC\n",
    "from sklearn.neural_network import MLPClassifier\n",
    "from sklearn.metrics import f1_score, precision_score, recall_score\n",
    "from sklearn.externals import joblib\n",
    "from xgboost import XGBClassifier\n",
    "\n",
    "from load_data import load_dataset, read, make_training_dataset\n",
    "from build_features import ngram_features, select_best_features\n",
    "from explore_data import get_class_ratio\n",
    "from train_bow_models import naive_bayes, svm, xgboost, mlp"
   ]
  },
  {
   "cell_type": "code",
   "execution_count": 4,
   "metadata": {},
   "outputs": [],
   "source": [
    "# default matplotlib settings\n",
    "plt.rcdefaults()"
   ]
  },
  {
   "cell_type": "code",
   "execution_count": 4,
   "metadata": {},
   "outputs": [],
   "source": [
    "# constants\n",
    "TRAIN = Path('../data/disaster_response_messages_training.csv')\n",
    "VAL = Path('../data/disaster_response_messages_validation.csv')\n",
    "TEST = Path('../data/disaster_response_messages_test.csv')"
   ]
  },
  {
   "cell_type": "markdown",
   "metadata": {},
   "source": [
    "## Exploratory Data Analysis\n",
    "\n",
    "Explore the training data."
   ]
  },
  {
   "cell_type": "code",
   "execution_count": 5,
   "metadata": {},
   "outputs": [
    {
     "name": "stdout",
     "output_type": "stream",
     "text": [
      "Rows: 17720, columns: 37\n"
     ]
    }
   ],
   "source": [
    "train = pd.concat([read(TRAIN), read(VAL)], axis=0)\n",
    "print('Rows: {}, columns: {}'.format(train.shape[0], train.shape[1]))"
   ]
  },
  {
   "cell_type": "markdown",
   "metadata": {},
   "source": [
    "#### Class imbalance"
   ]
  },
  {
   "cell_type": "code",
   "execution_count": 6,
   "metadata": {},
   "outputs": [],
   "source": [
    "class_ratio = pd.DataFrame.from_dict(get_class_ratio(train, train.columns[6:]), orient='index')\n",
    "class_ratio.columns = ['ratio']"
   ]
  },
  {
   "cell_type": "code",
   "execution_count": 7,
   "metadata": {},
   "outputs": [
    {
     "data": {
      "text/html": [
       "<div>\n",
       "<style scoped>\n",
       "    .dataframe tbody tr th:only-of-type {\n",
       "        vertical-align: middle;\n",
       "    }\n",
       "\n",
       "    .dataframe tbody tr th {\n",
       "        vertical-align: top;\n",
       "    }\n",
       "\n",
       "    .dataframe thead th {\n",
       "        text-align: right;\n",
       "    }\n",
       "</style>\n",
       "<table border=\"1\" class=\"dataframe\">\n",
       "  <thead>\n",
       "    <tr style=\"text-align: right;\">\n",
       "      <th></th>\n",
       "      <th>ratio</th>\n",
       "    </tr>\n",
       "  </thead>\n",
       "  <tbody>\n",
       "    <tr>\n",
       "      <th>shops</th>\n",
       "      <td>155.81</td>\n",
       "    </tr>\n",
       "    <tr>\n",
       "      <th>tools</th>\n",
       "      <td>113.32</td>\n",
       "    </tr>\n",
       "    <tr>\n",
       "      <th>hospitals</th>\n",
       "      <td>65.87</td>\n",
       "    </tr>\n",
       "    <tr>\n",
       "      <th>fire</th>\n",
       "      <td>64.39</td>\n",
       "    </tr>\n",
       "    <tr>\n",
       "      <th>missing_people</th>\n",
       "      <td>61.61</td>\n",
       "    </tr>\n",
       "  </tbody>\n",
       "</table>\n",
       "</div>"
      ],
      "text/plain": [
       "                 ratio\n",
       "shops           155.81\n",
       "tools           113.32\n",
       "hospitals        65.87\n",
       "fire             64.39\n",
       "missing_people   61.61"
      ]
     },
     "execution_count": 7,
     "metadata": {},
     "output_type": "execute_result"
    }
   ],
   "source": [
    "# most imbalanced\n",
    "class_ratio.sort_values('ratio', ascending=False).head()"
   ]
  },
  {
   "cell_type": "code",
   "execution_count": 8,
   "metadata": {},
   "outputs": [
    {
     "data": {
      "text/html": [
       "<div>\n",
       "<style scoped>\n",
       "    .dataframe tbody tr th:only-of-type {\n",
       "        vertical-align: middle;\n",
       "    }\n",
       "\n",
       "    .dataframe tbody tr th {\n",
       "        vertical-align: top;\n",
       "    }\n",
       "\n",
       "    .dataframe thead th {\n",
       "        text-align: right;\n",
       "    }\n",
       "</style>\n",
       "<table border=\"1\" class=\"dataframe\">\n",
       "  <thead>\n",
       "    <tr style=\"text-align: right;\">\n",
       "      <th></th>\n",
       "      <th>ratio</th>\n",
       "    </tr>\n",
       "  </thead>\n",
       "  <tbody>\n",
       "    <tr>\n",
       "      <th>weather_related</th>\n",
       "      <td>1.70</td>\n",
       "    </tr>\n",
       "    <tr>\n",
       "      <th>direct_report</th>\n",
       "      <td>2.97</td>\n",
       "    </tr>\n",
       "    <tr>\n",
       "      <th>other_aid</th>\n",
       "      <td>4.49</td>\n",
       "    </tr>\n",
       "    <tr>\n",
       "      <th>food</th>\n",
       "      <td>5.80</td>\n",
       "    </tr>\n",
       "    <tr>\n",
       "      <th>earthquake</th>\n",
       "      <td>6.95</td>\n",
       "    </tr>\n",
       "  </tbody>\n",
       "</table>\n",
       "</div>"
      ],
      "text/plain": [
       "                 ratio\n",
       "weather_related   1.70\n",
       "direct_report     2.97\n",
       "other_aid         4.49\n",
       "food              5.80\n",
       "earthquake        6.95"
      ]
     },
     "execution_count": 8,
     "metadata": {},
     "output_type": "execute_result"
    }
   ],
   "source": [
    "# least imbalanced\n",
    "class_ratio.sort_values('ratio', ascending=True).head()"
   ]
  },
  {
   "cell_type": "code",
   "execution_count": 9,
   "metadata": {},
   "outputs": [
    {
     "data": {
      "image/png": "[encoded data removed]",
      "text/plain": [
       "<Figure size 640x480 with 1 Axes>"
      ]
     },
     "metadata": {},
     "output_type": "display_data"
    }
   ],
   "source": [
    "# plot class ratio\n",
    "class_ratio = class_ratio.sort_values('ratio', ascending=True)\n",
    "objects = class_ratio.index.tolist()\n",
    "y_pos = np.arange(len(objects))\n",
    "ratio = class_ratio['ratio'].tolist()\n",
    "\n",
    "plt.barh(y_pos, ratio, align='center')\n",
    "plt.yticks(y_pos, objects)\n",
    "plt.xlabel('Class Ratio')\n",
    "plt.title('Class imbalance comparison')\n",
    " \n",
    "plt.show()"
   ]
  },
  {
   "cell_type": "markdown",
   "metadata": {},
   "source": [
    "#### Sentence length distribution\n",
    "\n",
    "After removing stopwords and doing `min_df = 2`."
   ]
  },
  {
   "cell_type": "code",
   "execution_count": 10,
   "metadata": {},
   "outputs": [
    {
     "name": "stdout",
     "output_type": "stream",
     "text": [
      "Vocab size: 13064\n"
     ]
    }
   ],
   "source": [
    "vec = CountVectorizer(analyzer='word', stop_words='english', min_df=2)\n",
    "x_counts = vec.fit_transform(train['message'].values)\n",
    "\n",
    "print('Vocab size: {}'.format(len(vec.vocabulary_)))"
   ]
  },
  {
   "cell_type": "code",
   "execution_count": 11,
   "metadata": {},
   "outputs": [],
   "source": [
    "# bin into intervals\n",
    "train['sen_length'] = np.apply_along_axis(np.sum, 1, x_counts.toarray())\n",
    "bins = pd.IntervalIndex.from_tuples([(0, 5), (5, 10), (10, 20), (20, 50), (50, 100), (100, 1000)])\n",
    "train['sen_length_category'] = pd.cut(train['sen_length'], bins)\n",
    "\n",
    "# prepare sentence length for bar plot\n",
    "sen_length_dist = train['sen_length_category'].value_counts().reset_index()\n",
    "sen_length_dist.columns = ['range', 'frequency']\n",
    "sen_length_dist = sen_length_dist.sort_values('range')"
   ]
  },
  {
   "cell_type": "code",
   "execution_count": 12,
   "metadata": {},
   "outputs": [
    {
     "name": "stdout",
     "output_type": "stream",
     "text": [
      "Mean message length: 13.49, median: 11.0\n"
     ]
    }
   ],
   "source": [
    "print('Mean message length: {}, median: {}'.format(round(train['sen_length'].mean(), 2),\n",
    "                                                   train['sen_length'].median()))"
   ]
  },
  {
   "cell_type": "code",
   "execution_count": 13,
   "metadata": {},
   "outputs": [
    {
     "data": {
      "image/png": "[encoded data removed]",
      "text/plain": [
       "<Figure size 640x480 with 1 Axes>"
      ]
     },
     "metadata": {},
     "output_type": "display_data"
    }
   ],
   "source": [
    "# plot class ratio\n",
    "objects = sen_length_dist['range'].tolist()\n",
    "y_pos = np.arange(len(objects))\n",
    "freq = sen_length_dist['frequency'].tolist()\n",
    "\n",
    "plt.bar(y_pos, freq, align='center')\n",
    "plt.xticks(y_pos, objects)\n",
    "plt.ylabel('Message length')\n",
    "plt.title('Message length distribution')\n",
    " \n",
    "plt.show()"
   ]
  },
  {
   "cell_type": "markdown",
   "metadata": {},
   "source": [
    "## Text Classifier"
   ]
  },
  {
   "cell_type": "code",
   "execution_count": 14,
   "metadata": {},
   "outputs": [],
   "source": [
    "# load data\n",
    "COLUMN = 'weather_related'\n",
    "X_train, y_train = make_training_dataset(TRAIN, VAL, COLUMN)\n",
    "X_test, y_test = load_dataset(TEST, COLUMN)\n",
    "\n",
    "# vectorize data, learn on training, apply on test\n",
    "X_train, X_test = ngram_features(X_train, X_test)\n",
    "\n",
    "# select top 15000 features on training dataset, apply the same to test dataset\n",
    "X_train, X_test = select_best_features(X_train, y_train, X_test)"
   ]
  },
  {
   "cell_type": "code",
   "execution_count": 15,
   "metadata": {},
   "outputs": [],
   "source": [
    "# for convenience\n",
    "train_data = X_train, y_train\n",
    "test_data = X_test, y_test"
   ]
  },
  {
   "cell_type": "markdown",
   "metadata": {},
   "source": [
    "### When using feature selection"
   ]
  },
  {
   "cell_type": "code",
   "execution_count": 16,
   "metadata": {},
   "outputs": [
    {
     "name": "stdout",
     "output_type": "stream",
     "text": [
      "precision = 0.56, recall = 0.66, f-score = 0.61\n",
      "CPU times: user 433 ms, sys: 398 ms, total: 831 ms\n",
      "Wall time: 830 ms\n"
     ]
    }
   ],
   "source": [
    "%time naive_bayes(train_data, test_data, Path('../models/nb.top.features'))"
   ]
  },
  {
   "cell_type": "code",
   "execution_count": 17,
   "metadata": {},
   "outputs": [
    {
     "name": "stdout",
     "output_type": "stream",
     "text": [
      "Best params:  {'C': 1.0}\n",
      "precision = 0.78, recall = 0.88, f-score = 0.82\n",
      "CPU times: user 232 ms, sys: 90.2 ms, total: 322 ms\n",
      "Wall time: 3.22 s\n"
     ]
    }
   ],
   "source": [
    "%time svm(train_data, test_data, Path('../models/svm.top.features'))"
   ]
  },
  {
   "cell_type": "code",
   "execution_count": 18,
   "metadata": {},
   "outputs": [
    {
     "name": "stdout",
     "output_type": "stream",
     "text": [
      "Best params:  {'learning_rate': 0.3752080885943653, 'max_depth': 6}\n",
      "precision = 0.76, recall = 0.92, f-score = 0.83\n",
      "CPU times: user 4.91 s, sys: 60.7 ms, total: 4.97 s\n",
      "Wall time: 3min 33s\n"
     ]
    }
   ],
   "source": [
    "%time xgboost(train_data, test_data, Path('../models/xgb.top.features'))"
   ]
  },
  {
   "cell_type": "code",
   "execution_count": 19,
   "metadata": {},
   "outputs": [
    {
     "name": "stdout",
     "output_type": "stream",
     "text": [
      "Best params:  {'hidden_layer_sizes': (4, 50), 'learning_rate': 'adaptive'}\n",
      "precision = 0.75, recall = 0.81, f-score = 0.78\n",
      "CPU times: user 3.71 s, sys: 10.1 ms, total: 3.72 s\n",
      "Wall time: 1min 1s\n"
     ]
    }
   ],
   "source": [
    "%time mlp(train_data, test_data, Path('../models/mlp.top.features'))"
   ]
  }
 ],
 "metadata": {
  "kernelspec": {
   "display_name": "Python 3",
   "language": "python",
   "name": "python3"
  },
  "language_info": {
   "codemirror_mode": {
    "name": "ipython",
    "version": 3
   },
   "file_extension": ".py",
   "mimetype": "text/x-python",
   "name": "python",
   "nbconvert_exporter": "python",
   "pygments_lexer": "ipython3",
   "version": "3.6.6"
  }
 },
 "nbformat": 4,
 "nbformat_minor": 2
}
